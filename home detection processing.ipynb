{
 "cells": [
  {
   "cell_type": "code",
   "execution_count": 2,
   "id": "d0fbe5fa",
   "metadata": {},
   "outputs": [],
   "source": [
    "import pandas as pd\n",
    "import geopandas as gpd\n",
    "from shapely.wkt import loads\n",
    "from shapely.ops import transform\n",
    "from pyproj import Transformer\n",
    "\n",
    "# Load home_location WKT\n",
    "home_df = pd.read_csv(\"D:\\Siyu Zhao\\data\\Auckland region park\\home_locations.csv\")\n",
    "home_df[\"home_location\"] = home_df[\"home_location\"].apply(loads)\n",
    "\n",
    "home_gdf = gpd.GeoDataFrame(home_df, geometry=\"home_location\", crs=\"EPSG:4326\")\n",
    "home_gdf[\"home_location_geom\"] = home_gdf[\"home_location\"].to_crs(epsg=3857)\n",
    "\n",
    "home_gdf[\"home_x\"] = home_gdf[\"home_location_geom\"].x\n",
    "home_gdf[\"home_y\"] = home_gdf[\"home_location_geom\"].y\n",
    "\n",
    "home_gdf[[\"hashed_id\", \"home_location_geom\", \"home_x\", \"home_y\"]].to_csv(\"D:\\Siyu Zhao\\data\\Auckland region park\\home_location_xy.csv\", index=False)"
   ]
  },
  {
   "cell_type": "code",
   "execution_count": 3,
   "id": "f80af59b",
   "metadata": {},
   "outputs": [
    {
     "name": "stdout",
     "output_type": "stream",
     "text": [
      "4621\n"
     ]
    }
   ],
   "source": [
    "print(len(home_gdf))"
   ]
  },
  {
   "cell_type": "code",
   "execution_count": 1,
   "id": "fb6b3655",
   "metadata": {},
   "outputs": [
    {
     "name": "stdout",
     "output_type": "stream",
     "text": [
      "100962\n"
     ]
    }
   ],
   "source": [
    "import pandas as pd\n",
    "\n",
    "df_info = pd.read_csv(\"D:/Siyu Zhao/data/Auckland region park/infostop_stay_duration.csv\")\n",
    "df_home = pd.read_csv(\"D:/Siyu Zhao/data/Auckland region park/home_location_xy.csv\")\n",
    "\n",
    "df_merged = df_info.merge(\n",
    "    df_home[[\"hashed_id\", \"home_location_geom\", \"home_x\", \"home_y\"]],\n",
    "    on=\"hashed_id\",\n",
    "    how=\"left\"\n",
    ")\n",
    "\n",
    "df_merged.to_csv(\"D:/Siyu Zhao/data/Auckland region park/infostop_with_homelocation_xy.csv\", index=False)\n",
    "print(len(df_merged))"
   ]
  }
 ],
 "metadata": {
  "kernelspec": {
   "display_name": "Python 3",
   "language": "python",
   "name": "python3"
  },
  "language_info": {
   "codemirror_mode": {
    "name": "ipython",
    "version": 3
   },
   "file_extension": ".py",
   "mimetype": "text/x-python",
   "name": "python",
   "nbconvert_exporter": "python",
   "pygments_lexer": "ipython3",
   "version": "3.10.0"
  }
 },
 "nbformat": 4,
 "nbformat_minor": 5
}
