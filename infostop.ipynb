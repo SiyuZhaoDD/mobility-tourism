{
 "cells": [
  {
   "cell_type": "code",
   "execution_count": 1,
   "id": "72e1ac39",
   "metadata": {},
   "outputs": [],
   "source": [
    "import pandas as pd\n",
    "from pathlib import Path\n",
    "import geopandas as gpd\n",
    "from shapely import wkb\n",
    "\n",
    "csv_path = Path(r\"D:\\Siyu Zhao\\data\\Auckland region park\\waitakere_trajectories.csv\")\n",
    "\n",
    "\n",
    "df = pd.read_csv(\n",
    "    csv_path,\n",
    "    sep=\",\",            \n",
    "    header=0,\n",
    "    dtype={\n",
    "        \"hashed_id\": \"string\",\n",
    "        \"lat\": \"float64\",          \n",
    "        \"lon\": \"float64\",          \n",
    "        \"time\": \"int64\",           \n",
    "        \"polygon_name\": \"category\",\n",
    "        \"geom\": \"string\"\n",
    "    }\n",
    ")\n",
    "\n",
    "# 3. change unix_timestamp to datetime\n",
    "df[\"datetime\"] = pd.to_datetime(df[\"time\"], unit=\"s\", utc=True) \n",
    "df[\"datetime\"] = df[\"datetime\"].dt.tz_convert(\"Pacific/Auckland\")  # Convert to Auckland timezone\n",
    "df[\"timestamp\"] = df[\"datetime\"].apply(lambda x: x.timestamp())    \n",
    "\n",
    "# 4. Convert the WKB geometry column to a GeoDataFrame\n",
    "df[\"geometry\"] = df[\"geom\"].apply(lambda x: wkb.loads(bytes.fromhex(x))) # Convert WKB hex string to Shapely geometry\n",
    "\n",
    "\n",
    "# # 5. print\n",
    "# print(df.head())"
   ]
  },
  {
   "cell_type": "code",
   "execution_count": 2,
   "id": "004045c7",
   "metadata": {},
   "outputs": [],
   "source": [
    "#  Convert each user's trajectory into a NumPy array of shape (N, 3) with columns\n",
    "data = [\n",
    "    group.sort_values(\"time\")[[\"lat\", \"lon\", \"time\"]].to_numpy()\n",
    "    for _, group in df.groupby(\"hashed_id\")\n",
    "]\n",
    "\n",
    "# print(data)"
   ]
  },
  {
   "cell_type": "code",
   "execution_count": null,
   "id": "7d55a65b",
   "metadata": {},
   "outputs": [],
   "source": [
    "from infostop import Infostop\n",
    "import numpy as np\n",
    "\n",
    "model = Infostop(\n",
    "    r1=200,                            # Maximum distance to stay in the same place (for a stop)\n",
    "    r2=100,                            # Maximum distance to group stops into one destination\n",
    "    min_staying_time= 60 * 60,         # The minimum time a person must stay within a small area to be considered a stop.最短停留时间（小于就不是停留点）\n",
    "    max_time_between= 24 * 60 * 60     # 24h The maximum time allowed between two nearby points to still count as the same stop. 最大停留时间（超过就分成多个停留）\n",
    ")\n",
    "\n",
    "labels = model.fit_predict(data)\n",
    "\n"
   ]
  },
  {
   "cell_type": "code",
   "execution_count": 4,
   "id": "d9d67545",
   "metadata": {},
   "outputs": [
    {
     "name": "stdout",
     "output_type": "stream",
     "text": [
      "200m，100m，60min有效的停留点个数：5229634\n"
     ]
    }
   ],
   "source": [
    "all_labels = np.concatenate(labels)\n",
    "\n",
    "num_valid_stops = np.sum(all_labels != -1)\n",
    "\n",
    "print(f\"200m，100m，60min有效的停留点个数：{num_valid_stops}\")"
   ]
  },
  {
   "cell_type": "code",
   "execution_count": 1,
   "id": "aefe487f",
   "metadata": {},
   "outputs": [],
   "source": [
    "# from visualize import plot_map\n",
    "\n",
    "# folmap = plot_map(\n",
    "#     model,\n",
    "#     display_data=\"unique_stationary\",\n",
    "#     polygons=True,\n",
    "#     heatmap=True,\n",
    "#     scatter=True, \n",
    "#     scatter_opacity= 0.1,\n",
    "#     scatter_radius=3,\n",
    "#     #tiles=\"CartoDB positron\",\n",
    "#     tiles=\"OpenStreetMap\",\n",
    "#     zoom_start=13\n",
    "\n",
    "# )\n",
    "# folmap.m"
   ]
  },
  {
   "cell_type": "code",
   "execution_count": null,
   "id": "9dde7e46",
   "metadata": {},
   "outputs": [],
   "source": [
    "import pandas as pd\n",
    "import numpy as np\n",
    "\n",
    "all_points = np.vstack(data)               # shape: (N, 3) — lat, lon, timestamp\n",
    "all_labels = np.concatenate(labels)        # shape: (N,)\n",
    "\n",
    "df_labels = pd.DataFrame(all_points, columns=[\"lat\", \"lon\", \"time\"])\n",
    "df_labels[\"destination_id\"] = all_labels\n",
    "\n",
    "df[\"time\"] = df[\"time\"].astype(int)\n",
    "\n",
    "df_result = df.merge(df_labels, on=[\"lat\", \"lon\", \"time\"], how=\"left\")\n"
   ]
  },
  {
   "cell_type": "code",
   "execution_count": null,
   "id": "c3197d70",
   "metadata": {},
   "outputs": [],
   "source": [
    "\n",
    "gdf_result = gpd.GeoDataFrame(df_result, geometry=\"geometry\", crs=\"EPSG:4326\") # Set the coordinate reference system to WGS 84\n",
    "\n",
    "\n",
    "# print(gdf_result.head())\n",
    "\n",
    "output_path = r\"D:\\Siyu Zhao\\data\\Auckland region park\\infostop.csv\"\n",
    "gdf_result.to_csv(output_path, index=False)\n"
   ]
  }
 ],
 "metadata": {
  "kernelspec": {
   "display_name": "Python 3",
   "language": "python",
   "name": "python3"
  },
  "language_info": {
   "codemirror_mode": {
    "name": "ipython",
    "version": 3
   },
   "file_extension": ".py",
   "mimetype": "text/x-python",
   "name": "python",
   "nbconvert_exporter": "python",
   "pygments_lexer": "ipython3",
   "version": "3.10.0"
  }
 },
 "nbformat": 4,
 "nbformat_minor": 5
}
