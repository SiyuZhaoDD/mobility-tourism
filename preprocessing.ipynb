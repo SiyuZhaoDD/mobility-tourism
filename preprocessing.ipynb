{
 "cells": [
  {
   "cell_type": "code",
   "execution_count": 1,
   "metadata": {},
   "outputs": [
    {
     "name": "stdout",
     "output_type": "stream",
     "text": [
      "                                  hashed_id        lat         lon  \\\n",
      "0  bb2389611301252b5a2cd60950a1cbd450dc0f64 -36.880467  174.549970   \n",
      "1  6a564bcffb1e5fb79859602a62ff2d7800310894 -36.878074  174.549415   \n",
      "2  267f9fef013128ad1dbbd27ddb75079653dc951d -36.880485  174.549969   \n",
      "3  c2d4c716575356edd331b741ba572e63b6c2f6d5 -36.880668  174.549804   \n",
      "4  267f9fef013128ad1dbbd27ddb75079653dc951d -36.880467  174.549947   \n",
      "\n",
      "         time polygon_name                                               geom  \\\n",
      "0  1588691716            1  0101000020E6100000FF78AF5A99D16540871A8524B370...   \n",
      "1  1605257908            1  0101000020E6100000D21DC4CE94D16540E4BB94BA6470...   \n",
      "2  1600461195            1  0101000020E61000000B9A965899D165402DCF83BBB370...   \n",
      "3  1605923541            1  0101000020E6100000B8E68EFE97D165401E51A1BAB970...   \n",
      "4  1600940978            1  0101000020E61000001171732A99D16540871A8524B370...   \n",
      "\n",
      "                   datetime                       geometry  \n",
      "0 2020-05-05 15:15:16+00:00   POINT (174.54997 -36.880467)  \n",
      "1 2020-11-13 08:58:28+00:00  POINT (174.549415 -36.878074)  \n",
      "2 2020-09-18 20:33:15+00:00  POINT (174.549969 -36.880485)  \n",
      "3 2020-11-21 01:52:21+00:00  POINT (174.549804 -36.880668)  \n",
      "4 2020-09-24 09:49:38+00:00  POINT (174.549947 -36.880467)  \n",
      "['hashed_id', 'lat', 'lon', 'time', 'polygon_name', 'geom', 'datetime', 'geometry']\n"
     ]
    }
   ],
   "source": [
    "# 1. Import necessary libraries\n",
    "import pandas as pd\n",
    "import geopandas as gpd\n",
    "from shapely import wkb\n",
    "from pathlib import Path\n",
    "\n",
    "# 2. Read the CSV file containing trajectory data\n",
    "csv_path = Path(r\"\\\\tsclient\\D\\Siyu Zhao\\data\\Auckland region park\\waitakere_trajectories.csv\")\n",
    "\n",
    "\n",
    "df = pd.read_csv(\n",
    "    csv_path,\n",
    "    sep=\",\",            \n",
    "    header=0,\n",
    "    dtype={\n",
    "        \"hashed_id\": \"string\",\n",
    "        \"lat\": \"float64\",          \n",
    "        \"lon\": \"float64\",          \n",
    "        \"time\": \"int64\",           \n",
    "        \"polygon_name\": \"category\",\n",
    "        \"geom\": \"string\"\n",
    "    }\n",
    ")\n",
    "\n",
    "# 3. change unix_timestamp to datetime\n",
    "df[\"datetime\"] = pd.to_datetime(df[\"time\"], unit=\"s\", utc=True) \n",
    "\n",
    "# 4. Convert the WKB geometry column to a GeoDataFrame\n",
    "df[\"geometry\"] = df[\"geom\"].apply(lambda x: wkb.loads(bytes.fromhex(x))) # Convert WKB hex string to Shapely geometry\n",
    "gdf = gpd.GeoDataFrame(df, geometry=\"geometry\", crs=\"EPSG:4326\")  # Set the coordinate reference system to WGS 84\n",
    "\n",
    "# 5. print\n",
    "print(df.head()) # Display the first few rows of the DataFrame\n",
    "print(df.columns.tolist()) # Display the list of columns in the DataFrame"
   ]
  },
  {
   "cell_type": "code",
   "execution_count": 3,
   "metadata": {},
   "outputs": [
    {
     "name": "stdout",
     "output_type": "stream",
     "text": [
      "bbox: [174.444446, -37.050305, 174.635066, -36.868314]\n"
     ]
    }
   ],
   "source": [
    "from pyrosm import OSM\n",
    "import numpy as np\n",
    "np.float = np.float64 \n",
    "\n",
    "# 6. Get the bounding box of the trajectory data\n",
    "south, north = df[\"lat\"].min(), df[\"lat\"].max()  # latitude\n",
    "west,  east  = df[\"lon\"].min(), df[\"lon\"].max()  # longitude\n",
    "bbox = [west, south, east, north]  # bounding box               \n",
    "print(\"bbox:\", bbox)\n",
    "osm = OSM(r\"\\\\tsclient\\D\\Siyu Zhao\\data\\New Zealand OSM\\new-zealand-latest.osm.pbf\", bounding_box=bbox)\n",
    "\n"
   ]
  },
  {
   "cell_type": "code",
   "execution_count": 4,
   "metadata": {},
   "outputs": [],
   "source": [
    "# 7. Extract POIs related to travel and transportation\n",
    "\n",
    "\n",
    "tourism_tags = {\n",
    "    \"tourism\": [\n",
    "        \"attraction\", \"viewpoint\",  \"museum\", \"gallery\",\n",
    "         \"sightseeing\", \"zoo\", \"theme_park\", \"aquarium\", \n",
    "    ],\n",
    "    \"leisure\": [\n",
    "        \"park\", \"nature_reserve\", \"garden\", \"playground\", \"picnic_site\", \"dog_park\",\n",
    "    ],\n",
    "    \"natural\": [\n",
    "        \"waterfall\", \"peak\", \"beach\", \"spring\", \"volcano\", \n",
    "        \"cave_entrance\" , \"wetland\", \"bay\" , \"valley\" ,\n",
    "        \"lake\", \"river\", \"stream\",\n",
    "    ],\n",
    "    \"sport\" : [\n",
    "        \"surfing\",\"scuba_diving\",\"fishing\",\"kayaking\",\"rowing\",\"rafting\",\n",
    "         \"climbing\",\"running\",\"trail_running\",\"mountain_biking\",\"orienteering\",\n",
    "        \"horse_riding\",\"equestrian\",\"paragliding\",\"beachvolleyball\",\"disc_golf\"\n",
    "    ],\n",
    "    \"amenity\": [\n",
    "        \"restaurant\", \"cafe\", \"bar\", \"pub\", \"fast_food\", \"ice_cream\", \"toilets\",\n",
    "        \"food_court\",\"bbq\",\"drinking_water\",\"shower\", \"bench\",\n",
    "        \"parking\", \"bicycle_parking\", \"ferry_terminal\",\"fuel\",\"bicycle_rental\", \"car_rental\",\"car_sharing\",\"taxi\"\n",
    "    ],\n",
    "    \"shop\": [\n",
    "        \"convenience\", \"supermarket\", \"bakery\", \"mall\",\n",
    "        \"outdoor\",\"sports\",\"surf\",\"diving\",\"bicycle\",\"camping\",\n",
    "        \"souvenir\",\"gift\",\"craft\",\n",
    "    ],\n",
    "    \"historic\": [ \"monument\", \"memorial\",\"milestone\", \"heritage\"],\n",
    "                        \n",
    "}\n",
    "\n",
    "transport_tags = {\n",
    "    \"highway\": [ \"bus_stop\",\"bus_station\"],\n",
    "    \"public_transport\": [\"bus_stop\", \"ferry\", \"train_station\",\"boarding_area\"],\n",
    "    \"railway\": [\"subway\",\"station\"],\n",
    "    \"aeroway\": [\"aerodrome\", \"helipad\"],\n",
    "    \"waterway\": [\"boat_ramp\",\"dock\"]\n",
    "}\n",
    "\n",
    "custom_filter = {**tourism_tags, **transport_tags} # Merge tourism and transport tags\n",
    "\n",
    "\n",
    "\n"
   ]
  },
  {
   "cell_type": "code",
   "execution_count": null,
   "metadata": {},
   "outputs": [
    {
     "name": "stderr",
     "output_type": "stream",
     "text": [
      "C:\\Users\\Siyu\\AppData\\Local\\Temp\\2\\ipykernel_10300\\1759372121.py:2: DeprecationWarning: WKTReadingError is deprecated and will be removed in a future version. Use ShapelyError instead (functions previously raising {name} will now raise a ShapelyError instead).\n",
      "  from shapely.errors import WKTReadingError\n"
     ]
    },
    {
     "name": "stdout",
     "output_type": "stream",
     "text": [
      "815 POIs\n",
      "          id   timestamp visible  version  \\\n",
      "0  267846635  1212322163   False        1   \n",
      "1  281899623  1726726018   False        5   \n",
      "2  343304706  1234068629   False        2   \n",
      "3  364614727  1609091094   False        4   \n",
      "4  364875376  1237783713   False        2   \n",
      "\n",
      "                                                tags         lon  changeset  \\\n",
      "0                     {\"created_by\":\"Potlatch 0.9c\"}  174.541046        0.0   \n",
      "1  {\"brand\":\"Night 'n Day\",\"brand:wikidata\":\"Q111...  174.619446        0.0   \n",
      "2                    {\"created_by\":\"Potlatch 0.10f\"}  174.545837        0.0   \n",
      "3  {\"description\":\"Waterfall viewpoint\",\"directio...  174.545029        0.0   \n",
      "4                    {\"created_by\":\"Potlatch 0.10f\"}  174.458328        0.0   \n",
      "\n",
      "         lat addr:city addr:housenumber  ... railway  \\\n",
      "0 -36.906548      None             None  ...    None   \n",
      "1 -36.894032      None             None  ...    None   \n",
      "2 -36.890720      None             None  ...    None   \n",
      "3 -36.999802      None             None  ...    None   \n",
      "4 -36.924362      None             None  ...    None   \n",
      "\n",
      "                      geometry osm_type wetland building building:levels  \\\n",
      "0  POINT (174.54105 -36.90655)     node     NaN      NaN             NaN   \n",
      "1  POINT (174.61945 -36.89403)     node     NaN      NaN             NaN   \n",
      "2  POINT (174.54584 -36.89072)     node     NaN      NaN             NaN   \n",
      "3   POINT (174.54503 -36.9998)     node     NaN      NaN             NaN   \n",
      "4  POINT (174.45833 -36.92436)     node     NaN      NaN             NaN   \n",
      "\n",
      "  drinking_water area surface aeroway  \n",
      "0            NaN  NaN     NaN     NaN  \n",
      "1            NaN  NaN     NaN     NaN  \n",
      "2            NaN  NaN     NaN     NaN  \n",
      "3            NaN  NaN     NaN     NaN  \n",
      "4            NaN  NaN     NaN     NaN  \n",
      "\n",
      "[5 rows x 51 columns]\n"
     ]
    }
   ],
   "source": [
    "from shapely.geometry.base import BaseGeometry\n",
    "from shapely.errors import WKTReadingError\n",
    "\n",
    "\n",
    "# 8. Extract POIs from OSM data using the custom filter\n",
    "raw_pois = osm.get_pois(custom_filter=custom_filter)\n",
    "\n",
    "\n",
    "\n",
    "\n",
    "\n"
   ]
  },
  {
   "cell_type": "code",
   "execution_count": 17,
   "metadata": {},
   "outputs": [
    {
     "name": "stdout",
     "output_type": "stream",
     "text": [
      "1711 POIs\n",
      "Polygon            887\n",
      "Point              815\n",
      "MultiPolygon         5\n",
      "MultiLineString      3\n",
      "LineString           1\n",
      "Name: count, dtype: int64\n"
     ]
    }
   ],
   "source": [
    "# Filter out invalid geometries\n",
    "def is_valid_geom(g):\n",
    "    return isinstance(g, BaseGeometry) and g.is_valid and not g.is_empty\n",
    "\n",
    "pois = raw_pois[raw_pois[\"geometry\"].apply(is_valid_geom)].copy()\n",
    "\n",
    "\n",
    "# point_pois = pois[pois.geometry.type == \"Point\"]\n",
    "# line_pois = pois[pois.geometry.type == \"LineString\"]\n",
    "# polygon_pois = pois[pois.geometry.type == \"Polygon\"]\n",
    "\n",
    "\n",
    "# print(len(point_pois), \"Point POIs\")\n",
    "# print(len(line_pois), \"Line POIs\")\n",
    "# print(len(polygon_pois), \"Polygon POIs\")\n",
    "print(len(pois), \"POIs\")\n",
    "print(pois.geometry.type.value_counts())"
   ]
  },
  {
   "cell_type": "code",
   "execution_count": 14,
   "metadata": {},
   "outputs": [
    {
     "name": "stdout",
     "output_type": "stream",
     "text": [
      "amenity          801\n",
      "tourism          68\n",
      "leisure          360\n",
      "natural          203\n",
      "historic         13\n",
      "shop             36\n",
      "highway          226\n",
      "public_transport 216\n",
      "railway          3\n",
      "aeroway          2\n"
     ]
    }
   ],
   "source": [
    "# 9. Count the number of POIs for each category\n",
    "\n",
    "\n",
    "for k in [\"amenity\",\"tourism\",\"leisure\",\"natural\",\"historic\",\n",
    "          \"shop\",\"highway\",\"public_transport\",\"railway\",\"aeroway\"]:\n",
    "    if k in pois.columns:\n",
    "        print(f\"{k:<16}\", pois[k].notna().sum())\n"
   ]
  },
  {
   "cell_type": "code",
   "execution_count": 18,
   "metadata": {},
   "outputs": [],
   "source": [
    "output_path = r\"\\\\tsclient\\D\\Siyu Zhao\\data\\Auckland region park\\Auckland-parks-poi.gpkg\"\n",
    "pois.to_file(output_path, driver=\"GPKG\")"
   ]
  },
  {
   "cell_type": "code",
   "execution_count": 20,
   "metadata": {},
   "outputs": [
    {
     "name": "stdout",
     "output_type": "stream",
     "text": [
      "          id   timestamp visible  version  \\\n",
      "0  267846635  1212322163   False        1   \n",
      "1  281899623  1726726018   False        5   \n",
      "2  343304706  1234068629   False        2   \n",
      "3  364614727  1609091094   False        4   \n",
      "4  364875376  1237783713   False        2   \n",
      "\n",
      "                                                tags         lon  changeset  \\\n",
      "0                     {\"created_by\":\"Potlatch 0.9c\"}  174.541046        0.0   \n",
      "1  {\"brand\":\"Night 'n Day\",\"brand:wikidata\":\"Q111...  174.619446        0.0   \n",
      "2                    {\"created_by\":\"Potlatch 0.10f\"}  174.545837        0.0   \n",
      "3  {\"description\":\"Waterfall viewpoint\",\"directio...  174.545029        0.0   \n",
      "4                    {\"created_by\":\"Potlatch 0.10f\"}  174.458328        0.0   \n",
      "\n",
      "         lat addr:city addr:housenumber  ... railway  \\\n",
      "0 -36.906548      None             None  ...    None   \n",
      "1 -36.894032      None             None  ...    None   \n",
      "2 -36.890720      None             None  ...    None   \n",
      "3 -36.999802      None             None  ...    None   \n",
      "4 -36.924362      None             None  ...    None   \n",
      "\n",
      "                      geometry osm_type wetland building building:levels  \\\n",
      "0  POINT (174.54105 -36.90655)     node     NaN      NaN             NaN   \n",
      "1  POINT (174.61945 -36.89403)     node     NaN      NaN             NaN   \n",
      "2  POINT (174.54584 -36.89072)     node     NaN      NaN             NaN   \n",
      "3   POINT (174.54503 -36.9998)     node     NaN      NaN             NaN   \n",
      "4  POINT (174.45833 -36.92436)     node     NaN      NaN             NaN   \n",
      "\n",
      "  drinking_water area surface aeroway  \n",
      "0            NaN  NaN     NaN     NaN  \n",
      "1            NaN  NaN     NaN     NaN  \n",
      "2            NaN  NaN     NaN     NaN  \n",
      "3            NaN  NaN     NaN     NaN  \n",
      "4            NaN  NaN     NaN     NaN  \n",
      "\n",
      "[5 rows x 51 columns]\n"
     ]
    }
   ],
   "source": [
    "print(pois.head())"
   ]
  },
  {
   "cell_type": "code",
   "execution_count": 21,
   "metadata": {},
   "outputs": [
    {
     "name": "stdout",
     "output_type": "stream",
     "text": [
      "['id', 'timestamp', 'visible', 'version', 'tags', 'lon', 'changeset', 'lat', 'addr:city', 'addr:housenumber', 'addr:housename', 'addr:postcode', 'addr:street', 'email', 'name', 'opening_hours', 'operator', 'phone', 'ref', 'website', 'tourism', 'zoo', 'leisure', 'outdoor_seating', 'natural', 'amenity', 'bicycle_parking', 'fountain', 'internet_access', 'parking', 'source', 'start_date', 'wikipedia', 'shop', 'historic', 'memorial', 'access', 'foot', 'highway', 'lit', 'public_transport', 'railway', 'geometry', 'osm_type', 'wetland', 'building', 'building:levels', 'drinking_water', 'area', 'surface', 'aeroway']\n",
      "None\n"
     ]
    }
   ],
   "source": [
    "print(print(pois.columns.tolist()))"
   ]
  }
 ],
 "metadata": {
  "kernelspec": {
   "display_name": "gis",
   "language": "python",
   "name": "python3"
  },
  "language_info": {
   "codemirror_mode": {
    "name": "ipython",
    "version": 3
   },
   "file_extension": ".py",
   "mimetype": "text/x-python",
   "name": "python",
   "nbconvert_exporter": "python",
   "pygments_lexer": "ipython3",
   "version": "3.11.11"
  }
 },
 "nbformat": 4,
 "nbformat_minor": 2
}
