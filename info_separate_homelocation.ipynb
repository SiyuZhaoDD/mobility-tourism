{
 "cells": [
  {
   "cell_type": "code",
   "execution_count": 1,
   "id": "de01f563",
   "metadata": {},
   "outputs": [
    {
     "name": "stdout",
     "output_type": "stream",
     "text": [
      "30932 70030\n"
     ]
    }
   ],
   "source": [
    "import pandas as pd\n",
    "\n",
    "file_path = r\"\\\\tsclient\\D\\Siyu Zhao\\data\\Auckland region park\\infostop_with_homelocation_xy.csv\"\n",
    "output_null_path = r\"\\\\tsclient\\D\\Siyu Zhao\\data\\Auckland region park\\infostop_with_no_homelocation.csv\"\n",
    "output_notnull_path = r\"\\\\tsclient\\D\\Siyu Zhao\\data\\Auckland region park\\infostop_with_specific_homelocation.csv\"\n",
    "\n",
    "chunksize = 50000\n",
    "null_rows = []\n",
    "notnull_rows = []\n",
    "\n",
    "for chunk in pd.read_csv(file_path, chunksize=chunksize):\n",
    "    null_chunk = chunk[chunk['home_location_geom'].isnull()]\n",
    "    notnull_chunk = chunk[chunk['home_location_geom'].notnull()]\n",
    "    \n",
    "    if not null_chunk.empty:\n",
    "        null_rows.append(null_chunk)\n",
    "    if not notnull_chunk.empty:\n",
    "        notnull_rows.append(notnull_chunk)\n",
    "\n",
    "df_null = pd.concat(null_rows, ignore_index=True)\n",
    "df_notnull = pd.concat(notnull_rows, ignore_index=True)\n",
    "\n",
    "# delete empty columns\n",
    "df_null.drop(columns=[\"home_location_geom\", \"home_x\", \"home_y\"], errors=\"ignore\", inplace=True)\n",
    "\n",
    "print(len(df_null), len(df_notnull))\n"
   ]
  },
  {
   "cell_type": "code",
   "execution_count": 2,
   "id": "0129c9b9",
   "metadata": {},
   "outputs": [],
   "source": [
    "\n",
    "df_null.to_csv(output_null_path, index=False)\n",
    "df_notnull.to_csv(output_notnull_path, index=False)"
   ]
  }
 ],
 "metadata": {
  "kernelspec": {
   "display_name": "mobility310",
   "language": "python",
   "name": "python3"
  },
  "language_info": {
   "codemirror_mode": {
    "name": "ipython",
    "version": 3
   },
   "file_extension": ".py",
   "mimetype": "text/x-python",
   "name": "python",
   "nbconvert_exporter": "python",
   "pygments_lexer": "ipython3",
   "version": "3.10.18"
  }
 },
 "nbformat": 4,
 "nbformat_minor": 5
}
