{
 "cells": [
  {
   "cell_type": "code",
   "execution_count": null,
   "id": "32b000b1",
   "metadata": {},
   "outputs": [],
   "source": [
    "import pandas as pd\n",
    "from skmob import TrajDataFrame\n",
    "from skmob.preprocessing import detection\n",
    "# 1. Import necessary libraries\n",
    "import pandas as pd\n",
    "import geopandas as gpd\n",
    "from shapely import wkb\n",
    "from pathlib import Path\n",
    "\n",
    "# 2. Read the CSV file containing trajectory data\n",
    "csv_path = Path(r\"\\\\tsclient\\D\\Siyu Zhao\\data\\Auckland region park\\waitakere_trajectories.csv\")\n",
    "\n",
    "\n",
    "df = pd.read_csv(\n",
    "    csv_path,\n",
    "    sep=\",\",            \n",
    "    header=0,\n",
    "    dtype={\n",
    "        \"hashed_id\": \"string\",\n",
    "        \"lat\": \"float64\",          \n",
    "        \"lon\": \"float64\",          \n",
    "        \"time\": \"int64\",           \n",
    "        \"polygon_name\": \"category\",\n",
    "        \"geom\": \"string\"\n",
    "    }\n",
    ")\n",
    "\n",
    "# 3. change unix_timestamp to datetime\n",
    "df[\"datetime\"] = pd.to_datetime(df[\"time\"], unit=\"s\", utc=True) \n",
    "\n",
    "# 4. Convert the WKB geometry column to a GeoDataFrame\n",
    "df[\"geometry\"] = df[\"geom\"].apply(lambda x: wkb.loads(bytes.fromhex(x))) # Convert WKB hex string to Shapely geometry\n",
    "gdf = gpd.GeoDataFrame(df, geometry=\"geometry\", crs=\"EPSG:4326\")  # Set the coordinate reference system to WGS 84\n",
    "\n",
    "# 5. print\n",
    "print(df.columns.tolist()) # Display the list of columns in the DataFrame"
   ]
  }
 ],
 "metadata": {
  "kernelspec": {
   "display_name": "mobility310",
   "language": "python",
   "name": "python3"
  },
  "language_info": {
   "name": "python",
   "version": "3.10.18"
  }
 },
 "nbformat": 4,
 "nbformat_minor": 5
}
